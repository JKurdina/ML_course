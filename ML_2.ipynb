{
  "nbformat": 4,
  "nbformat_minor": 0,
  "metadata": {
    "colab": {
      "provenance": [],
      "authorship_tag": "ABX9TyN/9fwl6HcLHgXJYWB+56tN"
    },
    "kernelspec": {
      "name": "python3",
      "display_name": "Python 3"
    },
    "language_info": {
      "name": "python"
    }
  },
  "cells": [
    {
      "cell_type": "code",
      "execution_count": null,
      "metadata": {
        "id": "oKY_KMEbr2lP"
      },
      "outputs": [],
      "source": [
        "import numpy as np\n",
        "import matplotlib.pyplot as plt\n",
        "import sklearn\n",
        "from sklearn.impute import SimpleImputer\n",
        "from sklearn.preprocessing import StandardScaler\n",
        "from sklearn.preprocessing import OneHotEncoder\n",
        "from sklearn.model_selection import train_test_split\n",
        "from sklearn.cluster import KMeans\n",
        "from sklearn.cluster import DBSCAN\n",
        "from sklearn.cluster import AgglomerativeClustering\n",
        "from sklearn.metrics import adjusted_rand_score, normalized_mutual_info_score, silhouette_score\n",
        "import matplotlib.pyplot as plt\n",
        "import pandas as pd\n",
        "%matplotlib inline"
      ]
    },
    {
      "cell_type": "markdown",
      "source": [
        "# Чтение данных"
      ],
      "metadata": {
        "id": "yYBQak1dGYnW"
      }
    },
    {
      "cell_type": "code",
      "source": [
        "data = pd.read_csv('Loan_Default.csv')"
      ],
      "metadata": {
        "id": "Z_pWXrWAXtnE"
      },
      "execution_count": null,
      "outputs": []
    },
    {
      "cell_type": "markdown",
      "source": [
        "# Обработка категориальных признаков"
      ],
      "metadata": {
        "id": "-lCWrEyxGest"
      }
    },
    {
      "cell_type": "code",
      "source": [
        "categorical_columns = [\n",
        "    'loan_limit', 'Gender', 'approv_in_adv', 'loan_type', 'loan_purpose',\n",
        "    'Credit_Worthiness', 'open_credit', 'business_or_commercial', 'Neg_ammortization',\n",
        "    'interest_only', 'lump_sum_payment', 'construction_type', 'occupancy_type',\n",
        "    'Secured_by', 'total_units', 'credit_type', 'co-applicant_credit_type',\n",
        "    'submission_of_application', 'Region', 'Security_Type', 'age', 'Status'\n",
        "]\n",
        "\n",
        "for col in categorical_columns:\n",
        "    data[col] = data[col].astype('category')"
      ],
      "metadata": {
        "id": "2EOOfN8TX_kN"
      },
      "execution_count": null,
      "outputs": []
    },
    {
      "cell_type": "code",
      "source": [
        "data = data.set_index('ID')\n",
        "data.drop('year', axis=1, inplace=True)"
      ],
      "metadata": {
        "id": "PbgLCAC0YFks"
      },
      "execution_count": null,
      "outputs": []
    },
    {
      "cell_type": "markdown",
      "source": [
        "# Обработка пропущенных значений, нормализация данных, бинаризация номинальных признаков"
      ],
      "metadata": {
        "id": "dVkynljMGwju"
      }
    },
    {
      "cell_type": "code",
      "source": [
        "num_features = [\n",
        "    'loan_amount', 'rate_of_interest', 'Interest_rate_spread', 'Upfront_charges',\n",
        "    'term', 'property_value', 'income', 'LTV', 'dtir1', 'Credit_Score'\n",
        "]\n",
        "\n",
        "cat_features = ['loan_limit', 'approv_in_adv', 'loan_purpose', 'Neg_ammortization',\n",
        "                'age', 'submission_of_application']\n",
        "\n",
        "imp_num = SimpleImputer(missing_values=np.nan, strategy='median')\n",
        "imp_num.fit(data[num_features])\n",
        "\n",
        "data[num_features] = imp_num.transform(data[num_features])\n",
        "\n",
        "imp_cat = SimpleImputer(missing_values=np.nan, strategy='most_frequent')\n",
        "imp_cat.fit(data[cat_features])\n",
        "\n",
        "data[cat_features] = imp_cat.transform(data[cat_features])"
      ],
      "metadata": {
        "id": "jIbokFBHYIck"
      },
      "execution_count": null,
      "outputs": []
    },
    {
      "cell_type": "code",
      "source": [
        "norm_data = data[[\"loan_amount\", \"rate_of_interest\", \"Interest_rate_spread\", \"Upfront_charges\", \"term\", \"property_value\", \"income\", \"LTV\", \"dtir1\", \"Credit_Score\"]]\n",
        "scaler = StandardScaler()\n",
        "scaler.fit(norm_data)\n",
        "norm_data = pd.DataFrame(scaler.transform(norm_data), columns=norm_data.columns, index=norm_data.index)"
      ],
      "metadata": {
        "id": "lhkBd9-cYdn8"
      },
      "execution_count": null,
      "outputs": []
    },
    {
      "cell_type": "code",
      "source": [
        "enc_features = ['loan_limit', 'Gender', 'approv_in_adv', 'loan_type',\t'loan_purpose', 'Credit_Worthiness', 'open_credit', 'business_or_commercial',\n",
        "              'Neg_ammortization', 'interest_only', 'lump_sum_payment', 'construction_type', 'occupancy_type', 'Secured_by', 'total_units',\n",
        "              'credit_type', 'co-applicant_credit_type', 'submission_of_application', 'Region', 'Security_Type', 'age']\n",
        "\n",
        "enc = OneHotEncoder(drop='if_binary', sparse_output=False)\n",
        "enc.fit(data[enc_features])\n",
        "\n",
        "dummies = pd.DataFrame(enc.transform(data[enc_features]),\n",
        "                       columns=enc.get_feature_names_out(), index=data.index)\n",
        "\n",
        "data = pd.concat((data, dummies), axis=1).drop([\"loan_amount\", \"rate_of_interest\", \"Interest_rate_spread\", \"Upfront_charges\",\n",
        "                                                \"term\", \"property_value\", \"income\", \"LTV\", \"dtir1\", \"Credit_Score\"], axis=1)\n",
        "\n",
        "data = pd.concat((norm_data, data), axis=1).drop(['loan_limit', 'Gender', 'approv_in_adv', 'loan_type',\t'loan_purpose', 'Credit_Worthiness', 'open_credit',\n",
        "                                                  'business_or_commercial', 'Neg_ammortization', 'interest_only', 'lump_sum_payment', 'construction_type',\n",
        "                                                  'occupancy_type', 'Secured_by', 'total_units', 'credit_type', 'co-applicant_credit_type', 'submission_of_application',\n",
        "                                                  'Region', 'Security_Type', 'age'], axis=1)"
      ],
      "metadata": {
        "id": "JdTWariFZM0d"
      },
      "execution_count": null,
      "outputs": []
    },
    {
      "cell_type": "markdown",
      "source": [
        "# Задача кластеризации с использованием разных методов"
      ],
      "metadata": {
        "id": "YxjdU08GHMN9"
      }
    },
    {
      "cell_type": "code",
      "source": [
        "X_train = data.drop(['Status'], axis=1)\n",
        "y_train = data['Status']"
      ],
      "metadata": {
        "id": "tDCcRULUZeQ7"
      },
      "execution_count": null,
      "outputs": []
    },
    {
      "cell_type": "code",
      "source": [
        "X_train.shape"
      ],
      "metadata": {
        "colab": {
          "base_uri": "https://localhost:8080/"
        },
        "id": "BV3oYMn40dt8",
        "outputId": "9b8ede68-604a-4691-c0cb-b5cda6004ca3"
      },
      "execution_count": null,
      "outputs": [
        {
          "output_type": "execute_result",
          "data": {
            "text/plain": [
              "(148670, 56)"
            ]
          },
          "metadata": {},
          "execution_count": 51
        }
      ]
    },
    {
      "cell_type": "code",
      "source": [
        "silhouette_scores = []\n",
        "range_clusters = range(2, 10)\n",
        "\n",
        "for k in range_clusters:\n",
        "    kmeans = KMeans(n_clusters=k, random_state=42)\n",
        "    kmeans.fit(X_train)\n",
        "    silhouette_scores.append(silhouette_score(X_train, kmeans.labels_))\n",
        "\n",
        "plt.figure(figsize=(10, 5))\n",
        "plt.plot(range_clusters, silhouette_scores, marker='o', color='green')\n",
        "plt.xlabel('Количество кластеров')\n",
        "plt.ylabel('Silhouette Score')\n",
        "plt.title('Оценка силуэта')\n",
        "plt.show()"
      ],
      "metadata": {
        "id": "8RK963NzcUyS",
        "colab": {
          "base_uri": "https://localhost:8080/",
          "height": 487
        },
        "outputId": "3dc5fc09-89e6-43de-d09c-cbf0cb4758cf"
      },
      "execution_count": 52,
      "outputs": [
        {
          "output_type": "display_data",
          "data": {
            "text/plain": [
              "<Figure size 1000x500 with 1 Axes>"
            ],
            "image/png": "[encoded data removed]"
          },
          "metadata": {}
        }
      ]
    },
    {
      "cell_type": "code",
      "source": [
        "# Обучение KMeans\n",
        "kmeans = KMeans(n_clusters=3, random_state=42)\n",
        "kmeans.fit(X_train)\n",
        "predicted_clusters = kmeans.labels_\n",
        "\n",
        "ari = adjusted_rand_score(y_train, predicted_clusters)\n",
        "silhouette_avg = silhouette_score(X_train, predicted_clusters)\n",
        "nmi = normalized_mutual_info_score(y_train, predicted_clusters)\n",
        "\n",
        "print(f\"Adjusted Rand Index (ARI): {ari:.3f}\")\n",
        "print(f\"Silhouette Score: {silhouette_avg:.3f}\")\n",
        "print(f\"Normalized Mutual Information (NMI): {nmi:.3f}\")"
      ],
      "metadata": {
        "id": "2AaHdh09cvXS",
        "colab": {
          "base_uri": "https://localhost:8080/"
        },
        "outputId": "55d9cf03-51fa-4fd3-e1ef-c8e1923f4d8e"
      },
      "execution_count": 53,
      "outputs": [
        {
          "output_type": "stream",
          "name": "stdout",
          "text": [
            "Adjusted Rand Index (ARI): -0.008\n",
            "Silhouette Score: 0.110\n",
            "Normalized Mutual Information (NMI): 0.012\n"
          ]
        }
      ]
    },
    {
      "cell_type": "code",
      "source": [
        "# Обучение DBSCAN\n",
        "dbscan = DBSCAN(eps=1, min_samples=10)\n",
        "dbscan.fit(X_train)\n",
        "predicted_clusters_dbscan = dbscan.labels_\n",
        "\n",
        "ari_dbscan = adjusted_rand_score(y_train, predicted_clusters_dbscan)\n",
        "silhouette_avg_dbscan = silhouette_score(X_train, predicted_clusters_dbscan)\n",
        "nmi = normalized_mutual_info_score(y_train, predicted_clusters_dbscan)\n",
        "\n",
        "print(f\"Adjusted Rand Index (ARI) для DBSCAN: {ari_dbscan:.3f}\")\n",
        "print(f\"Silhouette Score для DBSCAN: {silhouette_avg_dbscan:.3f}\")\n",
        "print(f\"Normalized Mutual Information (NMI): {nmi:.3f}\")"
      ],
      "metadata": {
        "id": "b5IMWn0hFpR-",
        "colab": {
          "base_uri": "https://localhost:8080/"
        },
        "outputId": "b031c5b5-e8fb-4adc-a968-0a1080bc383e"
      },
      "execution_count": 54,
      "outputs": [
        {
          "output_type": "stream",
          "name": "stdout",
          "text": [
            "Adjusted Rand Index (ARI) для DBSCAN: 0.051\n",
            "Silhouette Score для DBSCAN: -0.362\n",
            "Normalized Mutual Information (NMI): 0.053\n"
          ]
        }
      ]
    },
    {
      "cell_type": "code",
      "source": [
        "# Обучение AgglomerativeClustering\n",
        "agglomerative = AgglomerativeClustering(n_clusters=10)\n",
        "predicted_clusters_agglo = agglomerative.fit_predict(X_train)\n",
        "\n",
        "ari_agglo = adjusted_rand_score(y_train, predicted_clusters_agglo)\n",
        "silhouette_avg_agglo = silhouette_score(X_train, predicted_clusters_agglo)\n",
        "nmi_agglo = normalized_mutual_info_score(y_train, predicted_clusters_agglo)\n",
        "\n",
        "print(f\"Adjusted Rand Index (ARI) для Agglomerative Clustering: {ari_agglo:.3f}\")\n",
        "print(f\"Silhouette Score для Agglomerative Clustering: {silhouette_avg_agglo:.3f}\")\n",
        "print(f\"Normalized Mutual Information (NMI): {nmi_agglo:.3f}\")"
      ],
      "metadata": {
        "trusted": true,
        "scrolled": true,
        "outputId": "2ba952b3-87e0-4fa6-a56e-1a0f2503f0f6",
        "id": "Y5ltDGvlOymM"
      },
      "outputs": [
        {
          "name": "stdout",
          "text": "Adjusted Rand Index (ARI) для Agglomerative Clustering: 0.004\nSilhouette Score для Agglomerative Clustering: 0.110\nNormalized Mutual Information (NMI): 0.146\n",
          "output_type": "stream"
        }
      ],
      "execution_count": null
    },
    {
      "cell_type": "markdown",
      "source": [
        "# Вывод\n",
        "### Метод KMeans\n",
        "- Adjusted Rand Index (ARI): Отрицательное значение ARI говорит о том, что алгоритм не нашел структуры, близкой к истинным меткам.\n",
        "- Silhouette Score: Положительное значение, но близкое к нулю, показывает слабую структурированность кластеров и низкую уверенность в правильности выделенных групп.\n",
        "- Normalized Mutual Information (NMI): Очень низкое значение NMI указывает на слабую зависимость между полученными кластерами и истинными метками.\n",
        "\n",
        "Метод KMeans плохо справился с задачей кластеризации для этих данных.\n",
        "### Метод DBSCAN\n",
        "- Adjusted Rand Index (ARI): Положительное, но низкое значение ARI говорит о том, что DBSCAN чуть лучше случайного распределения, но все еще далеко от хорошего соответствия истинным меткам.\n",
        "- Silhouette Score: Отрицательное значение силуэта указывает на то, что многие объекты отнесены не в те кластеры, к которым они \"ближе\", что свидетельствует о плохой кластеризации.\n",
        "- Normalized Mutual Information (NMI): Низкое значение NMI указывает на слабую связь между кластерами и истинными метками.\n",
        "\n",
        "Метод DBSCAN не подходит для этих данных в выбранной конфигурации. Параметры eps и min_samples, возможно, требуют более тщательной настройки.\n",
        "### Метод AgglomerativeClustering\n",
        "- Adjusted Rand Index (ARI): Очень низкое значение ARI указывает, что кластеризация практически случайна и не соответствует истинным меткам.\n",
        "- Silhouette Score: Положительное значение, но низкое, показывает слабую структурированность кластеров.\n",
        "- Normalized Mutual Information (NMI): Более высокое значение NMI по сравнению с другими методами, но все еще недостаточное для значимой связи с истинными метками.\n",
        "\n",
        "Agglomerative Clustering работает немного лучше KMeans и DBSCAN, но результаты остаются неудовлетворительными.\n",
        "\n",
        "**Заключение**:\n",
        "Ни один из методов не показал хороших результатов на этих данных. Отрицательные и низкие значения метрик указывают на то, что данные либо плохо подходят для кластеризации, либо требуется более глубокая настройка параметров алгоритмов."
      ],
      "metadata": {
        "id": "IErc5WpoxVqT"
      }
    }
  ]
}